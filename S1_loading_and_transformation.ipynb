{
  "cells": [
    {
      "cell_type": "code",
      "execution_count": 2,
      "metadata": {
        "id": "lmVHyQkmeCFL"
      },
      "outputs": [],
      "source": [
        "import pandas as pd\n",
        "import numpy as np\n",
        "from sklearn.model_selection import StratifiedShuffleSplit"
      ]
    },
    {
      "cell_type": "code",
      "execution_count": 3,
      "metadata": {
        "id": "Idx0kyzWd972"
      },
      "outputs": [
        {
          "name": "stderr",
          "output_type": "stream",
          "text": [
            "/var/folders/70/1_tl7sh93ls9_l_lcqmkctg40000gn/T/ipykernel_80420/3049029488.py:2: FutureWarning: Downcasting behavior in `replace` is deprecated and will be removed in a future version. To retain the old behavior, explicitly call `result.infer_objects(copy=False)`. To opt-in to the future behavior, set `pd.set_option('future.no_silent_downcasting', True)`\n",
            "  txn_df.replace(\"\",np.nan,inplace = True)\n"
          ]
        }
      ],
      "source": [
        "txn_df = pd.read_json(\"transactions.txt\",lines = True)\n",
        "txn_df.replace(\"\",np.nan,inplace = True)"
      ]
    },
    {
      "cell_type": "code",
      "execution_count": 4,
      "metadata": {
        "colab": {
          "base_uri": "https://localhost:8080/",
          "height": 287
        },
        "id": "xczOSBAEeVoy",
        "outputId": "fcc2e4bd-30bc-4ba0-8731-32fc89b30af1"
      },
      "outputs": [
        {
          "data": {
            "text/html": [
              "<div>\n",
              "<style scoped>\n",
              "    .dataframe tbody tr th:only-of-type {\n",
              "        vertical-align: middle;\n",
              "    }\n",
              "\n",
              "    .dataframe tbody tr th {\n",
              "        vertical-align: top;\n",
              "    }\n",
              "\n",
              "    .dataframe thead th {\n",
              "        text-align: right;\n",
              "    }\n",
              "</style>\n",
              "<table border=\"1\" class=\"dataframe\">\n",
              "  <thead>\n",
              "    <tr style=\"text-align: right;\">\n",
              "      <th></th>\n",
              "      <th>accountNumber</th>\n",
              "      <th>customerId</th>\n",
              "      <th>creditLimit</th>\n",
              "      <th>availableMoney</th>\n",
              "      <th>transactionDateTime</th>\n",
              "      <th>transactionAmount</th>\n",
              "      <th>merchantName</th>\n",
              "      <th>acqCountry</th>\n",
              "      <th>merchantCountryCode</th>\n",
              "      <th>posEntryMode</th>\n",
              "      <th>posConditionCode</th>\n",
              "      <th>merchantCategoryCode</th>\n",
              "      <th>currentExpDate</th>\n",
              "      <th>accountOpenDate</th>\n",
              "      <th>dateOfLastAddressChange</th>\n",
              "      <th>cardCVV</th>\n",
              "      <th>enteredCVV</th>\n",
              "      <th>cardLast4Digits</th>\n",
              "      <th>transactionType</th>\n",
              "      <th>echoBuffer</th>\n",
              "      <th>currentBalance</th>\n",
              "      <th>merchantCity</th>\n",
              "      <th>merchantState</th>\n",
              "      <th>merchantZip</th>\n",
              "      <th>cardPresent</th>\n",
              "      <th>posOnPremises</th>\n",
              "      <th>recurringAuthInd</th>\n",
              "      <th>expirationDateKeyInMatch</th>\n",
              "      <th>isFraud</th>\n",
              "    </tr>\n",
              "  </thead>\n",
              "  <tbody>\n",
              "    <tr>\n",
              "      <th>0</th>\n",
              "      <td>737265056</td>\n",
              "      <td>737265056</td>\n",
              "      <td>5000</td>\n",
              "      <td>5000.0</td>\n",
              "      <td>2016-08-13T14:27:32</td>\n",
              "      <td>98.55</td>\n",
              "      <td>Uber</td>\n",
              "      <td>US</td>\n",
              "      <td>US</td>\n",
              "      <td>02</td>\n",
              "      <td>01</td>\n",
              "      <td>rideshare</td>\n",
              "      <td>06/2023</td>\n",
              "      <td>2015-03-14</td>\n",
              "      <td>2015-03-14</td>\n",
              "      <td>414</td>\n",
              "      <td>414</td>\n",
              "      <td>1803</td>\n",
              "      <td>PURCHASE</td>\n",
              "      <td>NaN</td>\n",
              "      <td>0.0</td>\n",
              "      <td>NaN</td>\n",
              "      <td>NaN</td>\n",
              "      <td>NaN</td>\n",
              "      <td>False</td>\n",
              "      <td>NaN</td>\n",
              "      <td>NaN</td>\n",
              "      <td>False</td>\n",
              "      <td>False</td>\n",
              "    </tr>\n",
              "    <tr>\n",
              "      <th>1</th>\n",
              "      <td>737265056</td>\n",
              "      <td>737265056</td>\n",
              "      <td>5000</td>\n",
              "      <td>5000.0</td>\n",
              "      <td>2016-10-11T05:05:54</td>\n",
              "      <td>74.51</td>\n",
              "      <td>AMC #191138</td>\n",
              "      <td>US</td>\n",
              "      <td>US</td>\n",
              "      <td>09</td>\n",
              "      <td>01</td>\n",
              "      <td>entertainment</td>\n",
              "      <td>02/2024</td>\n",
              "      <td>2015-03-14</td>\n",
              "      <td>2015-03-14</td>\n",
              "      <td>486</td>\n",
              "      <td>486</td>\n",
              "      <td>767</td>\n",
              "      <td>PURCHASE</td>\n",
              "      <td>NaN</td>\n",
              "      <td>0.0</td>\n",
              "      <td>NaN</td>\n",
              "      <td>NaN</td>\n",
              "      <td>NaN</td>\n",
              "      <td>True</td>\n",
              "      <td>NaN</td>\n",
              "      <td>NaN</td>\n",
              "      <td>False</td>\n",
              "      <td>False</td>\n",
              "    </tr>\n",
              "    <tr>\n",
              "      <th>2</th>\n",
              "      <td>737265056</td>\n",
              "      <td>737265056</td>\n",
              "      <td>5000</td>\n",
              "      <td>5000.0</td>\n",
              "      <td>2016-11-08T09:18:39</td>\n",
              "      <td>7.47</td>\n",
              "      <td>Play Store</td>\n",
              "      <td>US</td>\n",
              "      <td>US</td>\n",
              "      <td>09</td>\n",
              "      <td>01</td>\n",
              "      <td>mobileapps</td>\n",
              "      <td>08/2025</td>\n",
              "      <td>2015-03-14</td>\n",
              "      <td>2015-03-14</td>\n",
              "      <td>486</td>\n",
              "      <td>486</td>\n",
              "      <td>767</td>\n",
              "      <td>PURCHASE</td>\n",
              "      <td>NaN</td>\n",
              "      <td>0.0</td>\n",
              "      <td>NaN</td>\n",
              "      <td>NaN</td>\n",
              "      <td>NaN</td>\n",
              "      <td>False</td>\n",
              "      <td>NaN</td>\n",
              "      <td>NaN</td>\n",
              "      <td>False</td>\n",
              "      <td>False</td>\n",
              "    </tr>\n",
              "    <tr>\n",
              "      <th>3</th>\n",
              "      <td>737265056</td>\n",
              "      <td>737265056</td>\n",
              "      <td>5000</td>\n",
              "      <td>5000.0</td>\n",
              "      <td>2016-12-10T02:14:50</td>\n",
              "      <td>7.47</td>\n",
              "      <td>Play Store</td>\n",
              "      <td>US</td>\n",
              "      <td>US</td>\n",
              "      <td>09</td>\n",
              "      <td>01</td>\n",
              "      <td>mobileapps</td>\n",
              "      <td>08/2025</td>\n",
              "      <td>2015-03-14</td>\n",
              "      <td>2015-03-14</td>\n",
              "      <td>486</td>\n",
              "      <td>486</td>\n",
              "      <td>767</td>\n",
              "      <td>PURCHASE</td>\n",
              "      <td>NaN</td>\n",
              "      <td>0.0</td>\n",
              "      <td>NaN</td>\n",
              "      <td>NaN</td>\n",
              "      <td>NaN</td>\n",
              "      <td>False</td>\n",
              "      <td>NaN</td>\n",
              "      <td>NaN</td>\n",
              "      <td>False</td>\n",
              "      <td>False</td>\n",
              "    </tr>\n",
              "    <tr>\n",
              "      <th>4</th>\n",
              "      <td>830329091</td>\n",
              "      <td>830329091</td>\n",
              "      <td>5000</td>\n",
              "      <td>5000.0</td>\n",
              "      <td>2016-03-24T21:04:46</td>\n",
              "      <td>71.18</td>\n",
              "      <td>Tim Hortons #947751</td>\n",
              "      <td>US</td>\n",
              "      <td>US</td>\n",
              "      <td>02</td>\n",
              "      <td>01</td>\n",
              "      <td>fastfood</td>\n",
              "      <td>10/2029</td>\n",
              "      <td>2015-08-06</td>\n",
              "      <td>2015-08-06</td>\n",
              "      <td>885</td>\n",
              "      <td>885</td>\n",
              "      <td>3143</td>\n",
              "      <td>PURCHASE</td>\n",
              "      <td>NaN</td>\n",
              "      <td>0.0</td>\n",
              "      <td>NaN</td>\n",
              "      <td>NaN</td>\n",
              "      <td>NaN</td>\n",
              "      <td>True</td>\n",
              "      <td>NaN</td>\n",
              "      <td>NaN</td>\n",
              "      <td>False</td>\n",
              "      <td>False</td>\n",
              "    </tr>\n",
              "  </tbody>\n",
              "</table>\n",
              "</div>"
            ],
            "text/plain": [
              "   accountNumber  customerId  creditLimit  availableMoney  \\\n",
              "0      737265056   737265056         5000          5000.0   \n",
              "1      737265056   737265056         5000          5000.0   \n",
              "2      737265056   737265056         5000          5000.0   \n",
              "3      737265056   737265056         5000          5000.0   \n",
              "4      830329091   830329091         5000          5000.0   \n",
              "\n",
              "   transactionDateTime  transactionAmount         merchantName acqCountry  \\\n",
              "0  2016-08-13T14:27:32              98.55                 Uber         US   \n",
              "1  2016-10-11T05:05:54              74.51          AMC #191138         US   \n",
              "2  2016-11-08T09:18:39               7.47           Play Store         US   \n",
              "3  2016-12-10T02:14:50               7.47           Play Store         US   \n",
              "4  2016-03-24T21:04:46              71.18  Tim Hortons #947751         US   \n",
              "\n",
              "  merchantCountryCode posEntryMode posConditionCode merchantCategoryCode  \\\n",
              "0                  US           02               01            rideshare   \n",
              "1                  US           09               01        entertainment   \n",
              "2                  US           09               01           mobileapps   \n",
              "3                  US           09               01           mobileapps   \n",
              "4                  US           02               01             fastfood   \n",
              "\n",
              "  currentExpDate accountOpenDate dateOfLastAddressChange  cardCVV  enteredCVV  \\\n",
              "0        06/2023      2015-03-14              2015-03-14      414         414   \n",
              "1        02/2024      2015-03-14              2015-03-14      486         486   \n",
              "2        08/2025      2015-03-14              2015-03-14      486         486   \n",
              "3        08/2025      2015-03-14              2015-03-14      486         486   \n",
              "4        10/2029      2015-08-06              2015-08-06      885         885   \n",
              "\n",
              "   cardLast4Digits transactionType  echoBuffer  currentBalance  merchantCity  \\\n",
              "0             1803        PURCHASE         NaN             0.0           NaN   \n",
              "1              767        PURCHASE         NaN             0.0           NaN   \n",
              "2              767        PURCHASE         NaN             0.0           NaN   \n",
              "3              767        PURCHASE         NaN             0.0           NaN   \n",
              "4             3143        PURCHASE         NaN             0.0           NaN   \n",
              "\n",
              "   merchantState  merchantZip  cardPresent  posOnPremises  recurringAuthInd  \\\n",
              "0            NaN          NaN        False            NaN               NaN   \n",
              "1            NaN          NaN         True            NaN               NaN   \n",
              "2            NaN          NaN        False            NaN               NaN   \n",
              "3            NaN          NaN        False            NaN               NaN   \n",
              "4            NaN          NaN         True            NaN               NaN   \n",
              "\n",
              "   expirationDateKeyInMatch  isFraud  \n",
              "0                     False    False  \n",
              "1                     False    False  \n",
              "2                     False    False  \n",
              "3                     False    False  \n",
              "4                     False    False  "
            ]
          },
          "execution_count": 4,
          "metadata": {},
          "output_type": "execute_result"
        }
      ],
      "source": [
        "pd.set_option('display.max_columns',None)\n",
        "txn_df.head()"
      ]
    },
    {
      "cell_type": "markdown",
      "metadata": {
        "id": "sskbZHTPfBRu"
      },
      "source": [
        "Dataset has 786,363 rows and 29 features"
      ]
    },
    {
      "cell_type": "code",
      "execution_count": 5,
      "metadata": {
        "colab": {
          "base_uri": "https://localhost:8080/"
        },
        "id": "-ZKGMZgdfCOz",
        "outputId": "12a2cb06-a523-472f-8eca-771ad3fd140c"
      },
      "outputs": [
        {
          "data": {
            "text/plain": [
              "(786363, 29)"
            ]
          },
          "execution_count": 5,
          "metadata": {},
          "output_type": "execute_result"
        }
      ],
      "source": [
        "txn_df.shape"
      ]
    },
    {
      "cell_type": "code",
      "execution_count": 6,
      "metadata": {
        "colab": {
          "base_uri": "https://localhost:8080/"
        },
        "id": "Djs1pggMfsIx",
        "outputId": "92e1b7cc-01ec-430c-ede7-321e04749475"
      },
      "outputs": [
        {
          "data": {
            "text/plain": [
              "Index(['accountNumber', 'customerId', 'creditLimit', 'availableMoney',\n",
              "       'transactionDateTime', 'transactionAmount', 'merchantName',\n",
              "       'acqCountry', 'merchantCountryCode', 'posEntryMode', 'posConditionCode',\n",
              "       'merchantCategoryCode', 'currentExpDate', 'accountOpenDate',\n",
              "       'dateOfLastAddressChange', 'cardCVV', 'enteredCVV', 'cardLast4Digits',\n",
              "       'transactionType', 'echoBuffer', 'currentBalance', 'merchantCity',\n",
              "       'merchantState', 'merchantZip', 'cardPresent', 'posOnPremises',\n",
              "       'recurringAuthInd', 'expirationDateKeyInMatch', 'isFraud'],\n",
              "      dtype='object')"
            ]
          },
          "execution_count": 6,
          "metadata": {},
          "output_type": "execute_result"
        }
      ],
      "source": [
        "# Column names\n",
        "txn_df.columns"
      ]
    },
    {
      "cell_type": "code",
      "execution_count": 7,
      "metadata": {
        "colab": {
          "base_uri": "https://localhost:8080/"
        },
        "id": "-rU9YyFUsRfy",
        "outputId": "ecf298f7-b37e-40e0-80ca-9c17d35dd3dc"
      },
      "outputs": [
        {
          "name": "stdout",
          "output_type": "stream",
          "text": [
            "<class 'pandas.core.frame.DataFrame'>\n",
            "RangeIndex: 786363 entries, 0 to 786362\n",
            "Data columns (total 29 columns):\n",
            " #   Column                    Non-Null Count   Dtype  \n",
            "---  ------                    --------------   -----  \n",
            " 0   accountNumber             786363 non-null  int64  \n",
            " 1   customerId                786363 non-null  int64  \n",
            " 2   creditLimit               786363 non-null  int64  \n",
            " 3   availableMoney            786363 non-null  float64\n",
            " 4   transactionDateTime       786363 non-null  object \n",
            " 5   transactionAmount         786363 non-null  float64\n",
            " 6   merchantName              786363 non-null  object \n",
            " 7   acqCountry                781801 non-null  object \n",
            " 8   merchantCountryCode       785639 non-null  object \n",
            " 9   posEntryMode              782309 non-null  object \n",
            " 10  posConditionCode          785954 non-null  object \n",
            " 11  merchantCategoryCode      786363 non-null  object \n",
            " 12  currentExpDate            786363 non-null  object \n",
            " 13  accountOpenDate           786363 non-null  object \n",
            " 14  dateOfLastAddressChange   786363 non-null  object \n",
            " 15  cardCVV                   786363 non-null  int64  \n",
            " 16  enteredCVV                786363 non-null  int64  \n",
            " 17  cardLast4Digits           786363 non-null  int64  \n",
            " 18  transactionType           785665 non-null  object \n",
            " 19  echoBuffer                0 non-null       float64\n",
            " 20  currentBalance            786363 non-null  float64\n",
            " 21  merchantCity              0 non-null       float64\n",
            " 22  merchantState             0 non-null       float64\n",
            " 23  merchantZip               0 non-null       float64\n",
            " 24  cardPresent               786363 non-null  bool   \n",
            " 25  posOnPremises             0 non-null       float64\n",
            " 26  recurringAuthInd          0 non-null       float64\n",
            " 27  expirationDateKeyInMatch  786363 non-null  bool   \n",
            " 28  isFraud                   786363 non-null  bool   \n",
            "dtypes: bool(3), float64(9), int64(6), object(11)\n",
            "memory usage: 158.2+ MB\n"
          ]
        }
      ],
      "source": [
        "txn_df.info()"
      ]
    },
    {
      "cell_type": "markdown",
      "metadata": {
        "id": "SVnT3dy8f0a4"
      },
      "source": [
        "Datatype and % of missing values in each column"
      ]
    },
    {
      "cell_type": "code",
      "execution_count": 8,
      "metadata": {
        "id": "d0sjjzkMfxiy"
      },
      "outputs": [],
      "source": [
        "def sniff(df):\n",
        "  \"\"\"\n",
        "  Returns sample data, data type and percentage missing for each column of a data frame\n",
        "\n",
        "  Parameter and type: \n",
        "    df(Pandas Dataframe): Dataframe\n",
        "\n",
        "  Return:\n",
        "    :rtype: Dataframe\n",
        "    :return: Columns mentioned in rows with sample, data type and percent missing as columns\n",
        "  \"\"\"\n",
        "  with pd.option_context(\"display.max_colwidth\", 20):\n",
        "    info = pd.DataFrame()\n",
        "    info['sample'] = df.iloc[0]\n",
        "    info['data type'] = df.dtypes\n",
        "    info['percent missing'] = df.isnull().sum()*100/len(df)\n",
        "    return info.sort_values('data type')"
      ]
    },
    {
      "cell_type": "code",
      "execution_count": 9,
      "metadata": {
        "colab": {
          "base_uri": "https://localhost:8080/",
          "height": 959
        },
        "id": "g0lRWZ2QjpuZ",
        "outputId": "515b393c-05ff-4c96-d808-4d388d91f387"
      },
      "outputs": [
        {
          "data": {
            "text/html": [
              "<div>\n",
              "<style scoped>\n",
              "    .dataframe tbody tr th:only-of-type {\n",
              "        vertical-align: middle;\n",
              "    }\n",
              "\n",
              "    .dataframe tbody tr th {\n",
              "        vertical-align: top;\n",
              "    }\n",
              "\n",
              "    .dataframe thead th {\n",
              "        text-align: right;\n",
              "    }\n",
              "</style>\n",
              "<table border=\"1\" class=\"dataframe\">\n",
              "  <thead>\n",
              "    <tr style=\"text-align: right;\">\n",
              "      <th></th>\n",
              "      <th>sample</th>\n",
              "      <th>data type</th>\n",
              "      <th>percent missing</th>\n",
              "    </tr>\n",
              "  </thead>\n",
              "  <tbody>\n",
              "    <tr>\n",
              "      <th>isFraud</th>\n",
              "      <td>False</td>\n",
              "      <td>bool</td>\n",
              "      <td>0.000000</td>\n",
              "    </tr>\n",
              "    <tr>\n",
              "      <th>cardPresent</th>\n",
              "      <td>False</td>\n",
              "      <td>bool</td>\n",
              "      <td>0.000000</td>\n",
              "    </tr>\n",
              "    <tr>\n",
              "      <th>expirationDateKeyInMatch</th>\n",
              "      <td>False</td>\n",
              "      <td>bool</td>\n",
              "      <td>0.000000</td>\n",
              "    </tr>\n",
              "    <tr>\n",
              "      <th>cardLast4Digits</th>\n",
              "      <td>1803</td>\n",
              "      <td>int64</td>\n",
              "      <td>0.000000</td>\n",
              "    </tr>\n",
              "    <tr>\n",
              "      <th>enteredCVV</th>\n",
              "      <td>414</td>\n",
              "      <td>int64</td>\n",
              "      <td>0.000000</td>\n",
              "    </tr>\n",
              "    <tr>\n",
              "      <th>cardCVV</th>\n",
              "      <td>414</td>\n",
              "      <td>int64</td>\n",
              "      <td>0.000000</td>\n",
              "    </tr>\n",
              "    <tr>\n",
              "      <th>accountNumber</th>\n",
              "      <td>737265056</td>\n",
              "      <td>int64</td>\n",
              "      <td>0.000000</td>\n",
              "    </tr>\n",
              "    <tr>\n",
              "      <th>creditLimit</th>\n",
              "      <td>5000</td>\n",
              "      <td>int64</td>\n",
              "      <td>0.000000</td>\n",
              "    </tr>\n",
              "    <tr>\n",
              "      <th>customerId</th>\n",
              "      <td>737265056</td>\n",
              "      <td>int64</td>\n",
              "      <td>0.000000</td>\n",
              "    </tr>\n",
              "    <tr>\n",
              "      <th>recurringAuthInd</th>\n",
              "      <td>NaN</td>\n",
              "      <td>float64</td>\n",
              "      <td>100.000000</td>\n",
              "    </tr>\n",
              "    <tr>\n",
              "      <th>posOnPremises</th>\n",
              "      <td>NaN</td>\n",
              "      <td>float64</td>\n",
              "      <td>100.000000</td>\n",
              "    </tr>\n",
              "    <tr>\n",
              "      <th>merchantZip</th>\n",
              "      <td>NaN</td>\n",
              "      <td>float64</td>\n",
              "      <td>100.000000</td>\n",
              "    </tr>\n",
              "    <tr>\n",
              "      <th>merchantState</th>\n",
              "      <td>NaN</td>\n",
              "      <td>float64</td>\n",
              "      <td>100.000000</td>\n",
              "    </tr>\n",
              "    <tr>\n",
              "      <th>merchantCity</th>\n",
              "      <td>NaN</td>\n",
              "      <td>float64</td>\n",
              "      <td>100.000000</td>\n",
              "    </tr>\n",
              "    <tr>\n",
              "      <th>transactionAmount</th>\n",
              "      <td>98.55</td>\n",
              "      <td>float64</td>\n",
              "      <td>0.000000</td>\n",
              "    </tr>\n",
              "    <tr>\n",
              "      <th>currentBalance</th>\n",
              "      <td>0.0</td>\n",
              "      <td>float64</td>\n",
              "      <td>0.000000</td>\n",
              "    </tr>\n",
              "    <tr>\n",
              "      <th>availableMoney</th>\n",
              "      <td>5000.0</td>\n",
              "      <td>float64</td>\n",
              "      <td>0.000000</td>\n",
              "    </tr>\n",
              "    <tr>\n",
              "      <th>echoBuffer</th>\n",
              "      <td>NaN</td>\n",
              "      <td>float64</td>\n",
              "      <td>100.000000</td>\n",
              "    </tr>\n",
              "    <tr>\n",
              "      <th>acqCountry</th>\n",
              "      <td>US</td>\n",
              "      <td>object</td>\n",
              "      <td>0.580139</td>\n",
              "    </tr>\n",
              "    <tr>\n",
              "      <th>merchantName</th>\n",
              "      <td>Uber</td>\n",
              "      <td>object</td>\n",
              "      <td>0.000000</td>\n",
              "    </tr>\n",
              "    <tr>\n",
              "      <th>transactionDateTime</th>\n",
              "      <td>2016-08-13T14:27:32</td>\n",
              "      <td>object</td>\n",
              "      <td>0.000000</td>\n",
              "    </tr>\n",
              "    <tr>\n",
              "      <th>accountOpenDate</th>\n",
              "      <td>2015-03-14</td>\n",
              "      <td>object</td>\n",
              "      <td>0.000000</td>\n",
              "    </tr>\n",
              "    <tr>\n",
              "      <th>currentExpDate</th>\n",
              "      <td>06/2023</td>\n",
              "      <td>object</td>\n",
              "      <td>0.000000</td>\n",
              "    </tr>\n",
              "    <tr>\n",
              "      <th>merchantCategoryCode</th>\n",
              "      <td>rideshare</td>\n",
              "      <td>object</td>\n",
              "      <td>0.000000</td>\n",
              "    </tr>\n",
              "    <tr>\n",
              "      <th>posConditionCode</th>\n",
              "      <td>01</td>\n",
              "      <td>object</td>\n",
              "      <td>0.052012</td>\n",
              "    </tr>\n",
              "    <tr>\n",
              "      <th>posEntryMode</th>\n",
              "      <td>02</td>\n",
              "      <td>object</td>\n",
              "      <td>0.515538</td>\n",
              "    </tr>\n",
              "    <tr>\n",
              "      <th>merchantCountryCode</th>\n",
              "      <td>US</td>\n",
              "      <td>object</td>\n",
              "      <td>0.092069</td>\n",
              "    </tr>\n",
              "    <tr>\n",
              "      <th>transactionType</th>\n",
              "      <td>PURCHASE</td>\n",
              "      <td>object</td>\n",
              "      <td>0.088763</td>\n",
              "    </tr>\n",
              "    <tr>\n",
              "      <th>dateOfLastAddressChange</th>\n",
              "      <td>2015-03-14</td>\n",
              "      <td>object</td>\n",
              "      <td>0.000000</td>\n",
              "    </tr>\n",
              "  </tbody>\n",
              "</table>\n",
              "</div>"
            ],
            "text/plain": [
              "                                       sample data type  percent missing\n",
              "isFraud                                 False      bool         0.000000\n",
              "cardPresent                             False      bool         0.000000\n",
              "expirationDateKeyInMatch                False      bool         0.000000\n",
              "cardLast4Digits                          1803     int64         0.000000\n",
              "enteredCVV                                414     int64         0.000000\n",
              "cardCVV                                   414     int64         0.000000\n",
              "accountNumber                       737265056     int64         0.000000\n",
              "creditLimit                              5000     int64         0.000000\n",
              "customerId                          737265056     int64         0.000000\n",
              "recurringAuthInd                          NaN   float64       100.000000\n",
              "posOnPremises                             NaN   float64       100.000000\n",
              "merchantZip                               NaN   float64       100.000000\n",
              "merchantState                             NaN   float64       100.000000\n",
              "merchantCity                              NaN   float64       100.000000\n",
              "transactionAmount                       98.55   float64         0.000000\n",
              "currentBalance                            0.0   float64         0.000000\n",
              "availableMoney                         5000.0   float64         0.000000\n",
              "echoBuffer                                NaN   float64       100.000000\n",
              "acqCountry                                 US    object         0.580139\n",
              "merchantName                             Uber    object         0.000000\n",
              "transactionDateTime       2016-08-13T14:27:32    object         0.000000\n",
              "accountOpenDate                    2015-03-14    object         0.000000\n",
              "currentExpDate                        06/2023    object         0.000000\n",
              "merchantCategoryCode                rideshare    object         0.000000\n",
              "posConditionCode                           01    object         0.052012\n",
              "posEntryMode                               02    object         0.515538\n",
              "merchantCountryCode                        US    object         0.092069\n",
              "transactionType                      PURCHASE    object         0.088763\n",
              "dateOfLastAddressChange            2015-03-14    object         0.000000"
            ]
          },
          "execution_count": 9,
          "metadata": {},
          "output_type": "execute_result"
        }
      ],
      "source": [
        "sniff(txn_df)"
      ]
    },
    {
      "cell_type": "markdown",
      "metadata": {
        "id": "57EZW6AMlTd2"
      },
      "source": [
        "Dropping all null columns\n"
      ]
    },
    {
      "cell_type": "code",
      "execution_count": 10,
      "metadata": {
        "id": "0RxWOwy3jpxO"
      },
      "outputs": [],
      "source": [
        "col_to_drop = ['recurringAuthInd','posOnPremises','merchantZip','merchantState','merchantCity','echoBuffer']\n",
        "txn_df.drop(col_to_drop,axis = 1,inplace = True)"
      ]
    },
    {
      "cell_type": "markdown",
      "metadata": {
        "id": "edk8cwwpleYh"
      },
      "source": [
        "### Change datatype of columns\n",
        "\n",
        "\n"
      ]
    },
    {
      "cell_type": "code",
      "execution_count": 11,
      "metadata": {
        "id": "qtn4IggomWA-"
      },
      "outputs": [],
      "source": [
        "def change_dtype(df,columns,new_dtype):\n",
        "  \"\"\"\n",
        "  Function converting datatype of specified columns to a new datatype \n",
        "\n",
        "  Parameter and type: \n",
        "    df(Pandas Dataframe): Dataframe\n",
        "\n",
        "  Return:\n",
        "    :rtype: Dataframe\n",
        "    :return: Dataframe with new columns (changed data type)\n",
        "  \"\"\"\n",
        "  for col in columns :\n",
        "    df[col] = df[col].astype(new_dtype)\n"
      ]
    },
    {
      "cell_type": "markdown",
      "metadata": {
        "id": "BvS-XCYOlvzo"
      },
      "source": [
        "Numeric -> Object\n"
      ]
    },
    {
      "cell_type": "code",
      "execution_count": 12,
      "metadata": {
        "id": "xLfR29MkowSR"
      },
      "outputs": [],
      "source": [
        "num_cols = ['cardLast4Digits','enteredCVV','cardCVV','accountNumber','customerId']\n",
        "change_dtype(txn_df, num_cols, 'object')"
      ]
    },
    {
      "cell_type": "markdown",
      "metadata": {
        "id": "n_Z58DgbowIq"
      },
      "source": [
        "Object -> Datetime"
      ]
    },
    {
      "cell_type": "code",
      "execution_count": 13,
      "metadata": {
        "id": "XNYBNyxwowYg"
      },
      "outputs": [],
      "source": [
        "object_cols = ['transactionDateTime','accountOpenDate','currentExpDate','dateOfLastAddressChange']\n",
        "change_dtype(txn_df, object_cols, 'datetime64[ns]')"
      ]
    },
    {
      "cell_type": "markdown",
      "metadata": {
        "id": "zZ4Knjjtphda"
      },
      "source": [
        "Train and test set split (80:20)\n"
      ]
    },
    {
      "cell_type": "code",
      "execution_count": 14,
      "metadata": {
        "colab": {
          "base_uri": "https://localhost:8080/"
        },
        "id": "67txDgqvpgyc",
        "outputId": "68108d8a-5ba8-46e6-add5-223413c7a833"
      },
      "outputs": [
        {
          "data": {
            "text/plain": [
              "isFraud\n",
              "False    0.98421\n",
              "True     0.01579\n",
              "Name: count, dtype: float64"
            ]
          },
          "execution_count": 14,
          "metadata": {},
          "output_type": "execute_result"
        }
      ],
      "source": [
        "# Proportion of positive labels before splitting\n",
        "txn_df.isFraud.value_counts()/len(txn_df)"
      ]
    },
    {
      "cell_type": "code",
      "execution_count": 15,
      "metadata": {
        "id": "Fs9nLIRJp6F9"
      },
      "outputs": [],
      "source": [
        "# Stratified split to keep the distribution of target variable same\n",
        "split = StratifiedShuffleSplit(n_splits=1, test_size=0.2, random_state=42)\n",
        "for train_index, test_index in split.split(txn_df, txn_df[\"isFraud\"]):\n",
        "    strat_train_set = txn_df.loc[train_index]\n",
        "    strat_test_set = txn_df.loc[test_index]"
      ]
    },
    {
      "cell_type": "markdown",
      "metadata": {
        "id": "Auta6X9prGcZ"
      },
      "source": [
        "Saving the data set to pickle\n"
      ]
    },
    {
      "cell_type": "code",
      "execution_count": 16,
      "metadata": {
        "id": "qyl_Ck7-rFQ6"
      },
      "outputs": [],
      "source": [
        "pd.to_pickle(txn_df, 'transaction_dataset', protocol=4)\n",
        "pd.to_pickle(strat_train_set, 'train_df', protocol=4)\n",
        "pd.to_pickle(strat_test_set, 'test_df', protocol=4)"
      ]
    }
  ],
  "metadata": {
    "colab": {
      "provenance": [],
      "toc_visible": true
    },
    "kernelspec": {
      "display_name": "Python 3",
      "name": "python3"
    },
    "language_info": {
      "codemirror_mode": {
        "name": "ipython",
        "version": 3
      },
      "file_extension": ".py",
      "mimetype": "text/x-python",
      "name": "python",
      "nbconvert_exporter": "python",
      "pygments_lexer": "ipython3",
      "version": "3.9.19"
    }
  },
  "nbformat": 4,
  "nbformat_minor": 0
}
